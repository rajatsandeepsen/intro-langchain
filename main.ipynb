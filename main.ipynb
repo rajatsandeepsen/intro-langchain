{
 "cells": [
  {
   "cell_type": "code",
   "execution_count": 1,
   "id": "5483d32d",
   "metadata": {},
   "outputs": [
    {
     "data": {
      "text/plain": [
       "True"
      ]
     },
     "execution_count": 1,
     "metadata": {},
     "output_type": "execute_result"
    }
   ],
   "source": [
    "from dotenv import load_dotenv\n",
    "load_dotenv()"
   ]
  },
  {
   "cell_type": "code",
   "execution_count": 11,
   "id": "cca84533",
   "metadata": {},
   "outputs": [
    {
     "ename": "NameError",
     "evalue": "name 'API_TOKEN' is not defined",
     "output_type": "error",
     "traceback": [
      "\u001b[1;31m---------------------------------------------------------------------------\u001b[0m",
      "\u001b[1;31mNameError\u001b[0m                                 Traceback (most recent call last)",
      "\u001b[1;32m~\\AppData\\Local\\Temp\\ipykernel_19664\\1933204532.py\u001b[0m in \u001b[0;36m<module>\u001b[1;34m\u001b[0m\n\u001b[0;32m      1\u001b[0m \u001b[1;32mimport\u001b[0m \u001b[0mrequests\u001b[0m\u001b[1;33m\u001b[0m\u001b[1;33m\u001b[0m\u001b[0m\n\u001b[0;32m      2\u001b[0m \u001b[0mAPI_URL\u001b[0m \u001b[1;33m=\u001b[0m \u001b[1;34m\"https://api-inference.huggingface.co/models/gpt2\"\u001b[0m\u001b[1;33m\u001b[0m\u001b[1;33m\u001b[0m\u001b[0m\n\u001b[1;32m----> 3\u001b[1;33m \u001b[0mheaders\u001b[0m \u001b[1;33m=\u001b[0m \u001b[1;33m{\u001b[0m\u001b[1;34m\"Authorization\"\u001b[0m\u001b[1;33m:\u001b[0m \u001b[1;34mf\"Bearer {API_TOKEN}\"\u001b[0m\u001b[1;33m}\u001b[0m\u001b[1;33m\u001b[0m\u001b[1;33m\u001b[0m\u001b[0m\n\u001b[0m\u001b[0;32m      4\u001b[0m \u001b[1;32mdef\u001b[0m \u001b[0mquery\u001b[0m\u001b[1;33m(\u001b[0m\u001b[0mpayload\u001b[0m\u001b[1;33m)\u001b[0m\u001b[1;33m:\u001b[0m\u001b[1;33m\u001b[0m\u001b[1;33m\u001b[0m\u001b[0m\n\u001b[0;32m      5\u001b[0m     \u001b[0mresponse\u001b[0m \u001b[1;33m=\u001b[0m \u001b[0mrequests\u001b[0m\u001b[1;33m.\u001b[0m\u001b[0mpost\u001b[0m\u001b[1;33m(\u001b[0m\u001b[0mAPI_URL\u001b[0m\u001b[1;33m,\u001b[0m \u001b[0mheaders\u001b[0m\u001b[1;33m=\u001b[0m\u001b[0mheaders\u001b[0m\u001b[1;33m,\u001b[0m \u001b[0mjson\u001b[0m\u001b[1;33m=\u001b[0m\u001b[0mpayload\u001b[0m\u001b[1;33m)\u001b[0m\u001b[1;33m\u001b[0m\u001b[1;33m\u001b[0m\u001b[0m\n",
      "\u001b[1;31mNameError\u001b[0m: name 'API_TOKEN' is not defined"
     ]
    }
   ],
   "source": [
    "import requests\n",
    "API_URL = \"https://api-inference.huggingface.co/models/gpt2\"\n",
    "headers = {\"Authorization\": f\"Bearer {API_TOKEN}\"}\n",
    "def query(payload):\n",
    "    response = requests.post(API_URL, headers=headers, json=payload)\n",
    "    return response.json()\n"
   ]
  },
  {
   "cell_type": "code",
   "execution_count": 60,
   "id": "9578428e",
   "metadata": {},
   "outputs": [],
   "source": [
    "from langchain import HuggingFaceHub, LLMChain\n",
    "from langchain.prompts import PromptTemplate"
   ]
  },
  {
   "cell_type": "code",
   "execution_count": 90,
   "id": "aeb72f2e",
   "metadata": {},
   "outputs": [
    {
     "name": "stderr",
     "output_type": "stream",
     "text": [
      "C:\\Users\\rajat\\anaconda3\\lib\\site-packages\\huggingface_hub\\utils\\_deprecation.py:131: FutureWarning: 'InferenceApi' (from 'huggingface_hub.inference_api') is deprecated and will be removed from version '1.0'. `InferenceApi` client is deprecated in favor of the more feature-complete `InferenceClient`. Check out this guide to learn how to convert your script to use it: https://huggingface.co/docs/huggingface_hub/guides/inference#legacy-inferenceapi-client.\n",
      "  warnings.warn(warning_message, FutureWarning)\n"
     ]
    }
   ],
   "source": [
    "LLM = HuggingFaceHub(repo_id=\"gpt2\", huggingfacehub_api_token=API_TOKEN, )"
   ]
  },
  {
   "cell_type": "code",
   "execution_count": 95,
   "id": "68c255d8",
   "metadata": {},
   "outputs": [],
   "source": [
    "template = '''\n",
    "you are a machine used to extract data from text.\n",
    "Text may not contain all the data, so ignore that key value pair.\n",
    "\n",
    "Standard data type is:\n",
    "type: {{\n",
    "    name: string,\n",
    "    address: string\n",
    "}}\n",
    "replace this string with actual data.\n",
    "example text:\"hi, my name is rajat, a i live in kerala\"\n",
    "example extracted data: {{\"name\":\"rajat\", address:\"kerala\"}}\n",
    "\n",
    "text: \"{text}\"\n",
    "extracted data:\n",
    "\n",
    "'''\n",
    "\n",
    "template1 = '''\n",
    "Extract name of person from text.\n",
    "\n",
    "\n",
    "example,\n",
    "text: \"hi, my name is rajat, a i live in kerala\"\n",
    "name: \"rajat\"\n",
    "\n",
    "text: \"{text}\"\n",
    "name:'''\n",
    "\n",
    "template2= '''\n",
    "{text}'''\n",
    "\n",
    "prompts = PromptTemplate(\n",
    "    template=template2, \n",
    "    input_variables=[\"text\"]\n",
    ")\n",
    "\n",
    "exampleText = \"hi, my name is cisilia, and i live in kerala, what about you?\""
   ]
  },
  {
   "cell_type": "code",
   "execution_count": 97,
   "id": "9a529030",
   "metadata": {},
   "outputs": [
    {
     "name": "stdout",
     "output_type": "stream",
     "text": [
      "\n",
      "\n",
      "\u001b[1m> Entering new LLMChain chain...\u001b[0m\n",
      "Prompt after formatting:\n",
      "\u001b[32;1m\u001b[1;3m\n",
      "hi, my name is cisilia, and i live in kerala, what about you?\u001b[0m\n"
     ]
    }
   ],
   "source": [
    "HUB = LLMChain(llm=LLM, prompt=prompts, verbose=True)\n",
    "print(HUB.run(exampleText))"
   ]
  },
  {
   "cell_type": "code",
   "execution_count": 35,
   "id": "6feba4ff",
   "metadata": {},
   "outputs": [],
   "source": [
    "import requests\n",
    "endpoint = 'https://api.together.xyz/inference'\n",
    "TOGETHER_API_TOKEN = \"8e2aab0f9a8c1917984f86effb5e271d9952b46ef7add46c1880b10c701b29bc\"\n",
    "headers ={\n",
    "    \"Authorization\": f\"Bearer {TOGETHER_API_TOKEN}\",\n",
    "}\n",
    "\n",
    "def getBody(prompt:str):\n",
    "    return {\n",
    "    \"model\": \"mistralai/Mixtral-8x7B-v0.1\",\n",
    "    \"max_tokens\": 512,\n",
    "    \"prompt\": prompt,\n",
    "    \"request_type\": \"language-model-inference\",\n",
    "    \"temperature\": 0.7,\n",
    "    \"top_p\": 0.7,\n",
    "    \"top_k\": 50,\n",
    "    \"repetition_penalty\": 1,\n",
    "    \"negative_prompt\": \"\",\n",
    "    \"sessionKey\": \"51634e63-18a5-424d-ae09-830afa6842ec1\",\n",
    "    \"update_at\": \"2023-12-31T18:10:20.490Z\"\n",
    "}\n",
    "    \n",
    "\n"
   ]
  },
  {
   "cell_type": "code",
   "execution_count": 36,
   "id": "372c1428",
   "metadata": {},
   "outputs": [],
   "source": [
    "json = getBody(\"kerala is south indian state, which is\")\n",
    "res = requests.post(endpoint, json=json, headers=headers)\n",
    "\n",
    "data = res.json()"
   ]
  },
  {
   "cell_type": "code",
   "execution_count": 37,
   "id": "94516b5f",
   "metadata": {},
   "outputs": [
    {
     "name": "stdout",
     "output_type": "stream",
     "text": [
      "a very famous tourist destination. The state is also known for its natural beauty, which is why it is considered to be one of the most beautiful states in India. The state is also known for its rich culture, which is why it is considered to be one of the most culturally diverse states in India.\n",
      "- The state is also known for its rich history, which is why it is considered to be one of the most historically significant states in India. The state is also known for its rich culture, which is why it is considered to be one of the most culturally diverse states in India.\n",
      "- The state is also known for its rich history, which is why it is considered to be one of the most historically significant states in India.\n",
      "- The state is also known for its rich history, which is why it is considered to be one of the most historically significant states in India.\n",
      "- The state is also known for its rich history, which is why it is considered to be one of the most historically significant states in India.\n",
      "- The state is also known for its rich history, which is why it is considered to be one of the most historically significant states in India.\n",
      "- The state is also known for its rich history, which is why it is considered to be one of the most historically significant states in India.\n",
      "- The state is also known for its rich history, which is why it is considered to be one of the most historically significant states in India.\n",
      "- The state is also known for its rich history, which is why it is considered to be one of the most historically significant states in India.\n",
      "- The state is also known for its rich history, which is why it is considered to be one of the most historically significant states in India.\n",
      "- The state is also known for its rich history, which is why it is considered to be one of the most historically significant states in India.\n",
      "- The state is also known for its rich history, which is why it is considered to be one of the most historically significant states in India.\n",
      "- The state is also known for its rich history, which is why it is considered to be one of the most historically significant states in India.\n",
      "- The state is also known for its rich history, which is why it is considered to be one of the most historically significant states in India.\n",
      "- The state is also known for its rich history, which is why it\n"
     ]
    }
   ],
   "source": [
    "print(data[\"output\"][\"choices\"][0][\"text\"])"
   ]
  },
  {
   "cell_type": "code",
   "execution_count": null,
   "id": "c6dc4426",
   "metadata": {},
   "outputs": [],
   "source": []
  }
 ],
 "metadata": {
  "kernelspec": {
   "display_name": "Python 3 (ipykernel)",
   "language": "python",
   "name": "python3"
  },
  "language_info": {
   "codemirror_mode": {
    "name": "ipython",
    "version": 3
   },
   "file_extension": ".py",
   "mimetype": "text/x-python",
   "name": "python",
   "nbconvert_exporter": "python",
   "pygments_lexer": "ipython3",
   "version": "3.9.13"
  }
 },
 "nbformat": 4,
 "nbformat_minor": 5
}
