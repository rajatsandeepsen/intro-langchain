{
 "cells": [
  {
   "cell_type": "code",
   "execution_count": 1,
   "id": "dc15d8b4",
   "metadata": {},
   "outputs": [],
   "source": [
    "from langchain.chat_models import ChatOpenAI\n",
    "from kor import create_extraction_chain, Object, Text, Option, Selection"
   ]
  },
  {
   "cell_type": "code",
   "execution_count": 16,
   "id": "f444040a",
   "metadata": {},
   "outputs": [],
   "source": [
    "llm = ChatOpenAI(\n",
    "    base_url=\"http://localhost:1234/v1\",\n",
    "    api_key=\"not-needed\",\n",
    "    temperature=0,\n",
    "    max_tokens=2000,\n",
    "    streaming=True\n",
    ")"
   ]
  },
  {
   "cell_type": "code",
   "execution_count": 9,
   "id": "b6cb6a56",
   "metadata": {},
   "outputs": [],
   "source": [
    "apps= Object(\n",
    "    id=\"apps\",\n",
    "    description=\"User wants to collection of apps, mostly web or native apps\",\n",
    "    examples=[],\n",
    "    many=True,\n",
    "    attributes=[\n",
    "        Text(\n",
    "            id=\"name\",\n",
    "            description=\"User wants to use this technology\",\n",
    "            examples=[\n",
    "                (\"Technology nextjs as metaframework\", \"next\"),\n",
    "                (\"use reactjs for web\", \"react\"),\n",
    "                (\"use expo for native\", \"expo\"),\n",
    "            ]\n",
    "        ),\n",
    "    ]\n",
    ")\n",
    "\n",
    "packages = Object(\n",
    "    id=\"packages\",\n",
    "    description=\"User wants to collection of packages, which help and support apps\",\n",
    "    examples=[],\n",
    "    many=True,\n",
    "    attributes=[\n",
    "        Text(\n",
    "            id=\"name\",\n",
    "            description=\"User wants to use this technology as support packages\",\n",
    "            examples=[\n",
    "                (\"use shadcn ui components as design system in package\", \"shadcn-ui\"),\n",
    "                (\"use tailwind for all projects\", \"tailwind\"),\n",
    "                (\"use trpc as api for all projects\", \"trpc\"),\n",
    "            ]\n",
    "        ),\n",
    "    ]\n",
    ")\n",
    "\n",
    "styling = Selection(\n",
    "    id=\"styling\",\n",
    "    description=\"What is prefered styling library\",\n",
    "    options=[\n",
    "        Option(id=\"css\", description=\"Css\"),\n",
    "        Option(id=\"tailwind\", description=\"Tailwind\"),\n",
    "    ],\n",
    "    examples=[\n",
    "        (\"I prefer tailwind for styling\", \"tailwind\"),\n",
    "        (\"use default styling\", \"tailwind\"),\n",
    "        (\"css is fine for styling\", \"css\"),\n",
    "    ],\n",
    "    null_examples=[\n",
    "        \"I like bootstrap\",\n",
    "        \"use shadcn\",\n",
    "    ],\n",
    "    many=False\n",
    "    \n",
    ")\n",
    "\n",
    "schema = Object(\n",
    "    id=\"type\",\n",
    "    description=\"User need a collection of apps and package as turborepo setup for his project\",\n",
    "    attributes=[\n",
    "        apps,\n",
    "        packages,\n",
    "        styling\n",
    "    ],\n",
    ")\n"
   ]
  },
  {
   "cell_type": "code",
   "execution_count": 10,
   "id": "ba5f0a07",
   "metadata": {},
   "outputs": [],
   "source": [
    "from kor import TypeScriptDescriptor"
   ]
  },
  {
   "cell_type": "code",
   "execution_count": 11,
   "id": "c3b5b44d",
   "metadata": {},
   "outputs": [
    {
     "name": "stdout",
     "output_type": "stream",
     "text": [
      "```TypeScript\n",
      "\n",
      "type: { // User need a collection of apps and package as turborepo setup for his project\n",
      " apps: Array<{ // User wants to collection of apps, mostly web or native apps\n",
      "  name: string // User wants to use this technology\n",
      " }>\n",
      " packages: Array<{ // User wants to collection of packages, which help and support apps\n",
      "  name: string // User wants to use this technology as support packages\n",
      " }>\n",
      " styling: \"css\" | \"tailwind\" // What is prefered styling library\n",
      "}\n",
      "```\n",
      "\n"
     ]
    }
   ],
   "source": [
    "descriptor = TypeScriptDescriptor()\n",
    "print(descriptor.describe(schema))"
   ]
  },
  {
   "cell_type": "code",
   "execution_count": 17,
   "id": "b43189d4",
   "metadata": {},
   "outputs": [
    {
     "data": {
      "text/plain": [
       "{'type': {'apps': [{'name': 'next'}, {'name': 'expo'}],\n",
       "  'packages': [{'name': 'shadcn-ui'}, {'name': 'tailwind'}]}}"
      ]
     },
     "execution_count": 17,
     "metadata": {},
     "output_type": "execute_result"
    }
   ],
   "source": [
    "\n",
    "chain = create_extraction_chain(llm, schema, encoder_or_encoder_class='json')\n",
    "chain.run(\"i want turborepo setup with next and expo as native app with tailwind as styling.\")['data']"
   ]
  },
  {
   "cell_type": "code",
   "execution_count": 19,
   "id": "ec7dec4b",
   "metadata": {},
   "outputs": [
    {
     "name": "stdout",
     "output_type": "stream",
     "text": [
      "{'text': {'data': {'type': {'apps': [{'name': 'next'}, {'name': 'expo'}]}}, 'raw': '<json>{\"type\": {\"apps\": [{\"name\": \"next\"}, {\"name\": \"expo\"}]}}</json>\\n', 'errors': [], 'validated_data': {}}}\n"
     ]
    }
   ],
   "source": [
    "async for s in chain.astream(\"i want turborepo setup with next and expo as native app with tailwind as styling.\"):\n",
    "    print(s, flush=True)"
   ]
  },
  {
   "cell_type": "code",
   "execution_count": null,
   "id": "ed7ae1ab",
   "metadata": {},
   "outputs": [],
   "source": []
  }
 ],
 "metadata": {
  "kernelspec": {
   "display_name": "Python 3 (ipykernel)",
   "language": "python",
   "name": "python3"
  },
  "language_info": {
   "codemirror_mode": {
    "name": "ipython",
    "version": 3
   },
   "file_extension": ".py",
   "mimetype": "text/x-python",
   "name": "python",
   "nbconvert_exporter": "python",
   "pygments_lexer": "ipython3",
   "version": "3.9.13"
  }
 },
 "nbformat": 4,
 "nbformat_minor": 5
}
